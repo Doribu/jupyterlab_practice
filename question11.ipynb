{
 "cells": [
  {
   "attachments": {},
   "cell_type": "markdown",
   "id": "8c50a6e6-007f-4e04-8d34-3e82764be579",
   "metadata": {},
   "source": [
    "# Dora Xiong\n",
    "\n",
    "### Notebook for assignment 7"
   ]
  },
  {
   "cell_type": "code",
   "execution_count": 4,
   "id": "637b91cf-b419-4012-8fe6-83eb4ff8d3f3",
   "metadata": {},
   "outputs": [
    {
     "name": "stdout",
     "output_type": "stream",
     "text": [
      "5.0\n"
     ]
    }
   ],
   "source": [
    "def compute_mean(list_of_num):\n",
    "    mean_value = 0\n",
    "\n",
    "    mean_value = sum(list_of_num) / len(list_of_num) #calculates mean of a list of numbers\n",
    "    print(mean_value)\n",
    "    return \n",
    "\n",
    "compute_mean([2, 4, 6, 8])   "
   ]
  },
  {
   "cell_type": "markdown",
   "id": "c269290b-fe1a-41c4-a000-e38fa1a020c6",
   "metadata": {},
   "source": [
    "The following function named \"compute_mean\" in the above cell takes a list of values and prints the mean of the values in the list. \n",
    "\n",
    "It follows the calculation of the below expression. \n",
    "\n",
    "$$\n",
    "\\overline{x} = \\frac{(x_1 + x_2 + ... x_n)}{n} = \\frac{1}{n}\\left(\\sum\\limits^n_{i=1}x_i\\right) \n",
    "$$"
   ]
  }
 ],
 "metadata": {
  "kernelspec": {
   "display_name": "Python [conda env:base] *",
   "language": "python",
   "name": "conda-base-py"
  },
  "language_info": {
   "codemirror_mode": {
    "name": "ipython",
    "version": 3
   },
   "file_extension": ".py",
   "mimetype": "text/x-python",
   "name": "python",
   "nbconvert_exporter": "python",
   "pygments_lexer": "ipython3",
   "version": "3.12.2"
  }
 },
 "nbformat": 4,
 "nbformat_minor": 5
}
